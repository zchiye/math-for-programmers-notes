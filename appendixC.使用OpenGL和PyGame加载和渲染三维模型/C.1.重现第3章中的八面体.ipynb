{
 "cells": [
  {
   "cell_type": "code",
   "execution_count": 1,
   "id": "660f7b58",
   "metadata": {},
   "outputs": [
    {
     "name": "stdout",
     "output_type": "stream",
     "text": [
      "pygame 2.6.1 (SDL 2.28.4, Python 3.11.3)\n",
      "Hello from the pygame community. https://www.pygame.org/contribute.html\n"
     ]
    }
   ],
   "source": [
    "import pygame\n",
    "from pygame.locals import *\n",
    "from OpenGL.GL import *\n",
    "from OpenGL.GLU import *\n",
    "import matplotlib.cm\n",
    "from vectors import *\n",
    "from math import *"
   ]
  },
  {
   "cell_type": "code",
   "execution_count": 2,
   "id": "850bbb63",
   "metadata": {},
   "outputs": [],
   "source": [
    "def normal(face):\n",
    "    return(cross(subtract(face[1], face[0]), subtract(face[2], face[0])))\n",
    "\n",
    "blues = matplotlib.colormaps.get_cmap('Blues')\n",
    "\n",
    "def shade(face,color_map=blues,light=(1,2,3)):\n",
    "    return color_map(1 - dot(unit(normal(face)), unit(light)))"
   ]
  },
  {
   "cell_type": "code",
   "execution_count": 3,
   "id": "564103b2",
   "metadata": {},
   "outputs": [],
   "source": [
    "light = (1,2,3)\n",
    "faces = [\n",
    "    [(1,0,0), (0,1,0), (0,0,1)],\n",
    "    [(1,0,0), (0,0,-1), (0,1,0)],\n",
    "    [(1,0,0), (0,0,1), (0,-1,0)],\n",
    "    [(1,0,0), (0,-1,0), (0,0,-1)],\n",
    "    [(-1,0,0), (0,0,1), (0,1,0)],\n",
    "    [(-1,0,0), (0,1,0), (0,0,-1)],\n",
    "    [(-1,0,0), (0,-1,0), (0,0,1)],\n",
    "    [(-1,0,0), (0,0,-1), (0,-1,0)],\n",
    "]"
   ]
  },
  {
   "cell_type": "code",
   "execution_count": null,
   "id": "43d2e690",
   "metadata": {},
   "outputs": [],
   "source": [
    "pygame.init()\n",
    "display = (400,400)\n",
    "window = pygame.display.set_mode(display, # 要求PyGame在400像素×400像素的窗口中显示我们的图形\n",
    "                                 DOUBLEBUF|OPENGL) # 让PyGame知道我们的图形使用的是OpenGL，并声明我们想使用名为double-buffering的内置优化，它对我们理解目标来说并不重要\n",
    "\n",
    "gluPerspective(45, 1, 0.1, 50.0)\n",
    "glTranslatef(0.0,0.0,-5)\n",
    "glEnable(GL_CULL_FACE)\n",
    "glEnable(GL_DEPTH_TEST)\n",
    "glCullFace(GL_BACK)\n",
    "\n",
    "clock = pygame.time.Clock() # 初始化时钟，以测量PyGame的时间进度\n",
    "while True:\n",
    "    for event in pygame.event.get(): # 在每次迭代中，检查PyGame接收的事件并在用户关闭窗口时退出\n",
    "        if event.type == pygame.QUIT:\n",
    "            pygame.quit()\n",
    "            quit()\n",
    "\n",
    "    clock.tick() # 指示时钟已经花费的时间\n",
    "    glClear(GL_COLOR_BUFFER_BIT|GL_DEPTH_BUFFER_BIT)\n",
    "\n",
    "    degrees_per_second = 360./5\n",
    "    degrees_per_millisecond = degrees_per_second / 1000\n",
    "    milliseconds = clock.tick()\n",
    "    glRotatef(milliseconds * degrees_per_millisecond, 1,1,1)\n",
    "    \n",
    "    glBegin(GL_TRIANGLES) # 告诉OpenGL我们将要绘制三角形\n",
    "    for face in faces:\n",
    "        color = shade(face,blues,light)\n",
    "        for vertex in face:\n",
    "            glColor3fv((color[0],\n",
    "                        color[1],\n",
    "                        color[2])) # 根据阴影设置每个面（三角形）顶点的颜色\n",
    "            glVertex3fv(vertex) # 指定当前三角形的下一个顶点\n",
    "    glEnd()\n",
    "    pygame.display.flip() # 向PyGame指示动画的最新帧已经准备就绪，可以显示\n",
    "    # print(clock.get_fps())"
   ]
  }
 ],
 "metadata": {
  "kernelspec": {
   "display_name": "Python 3",
   "language": "python",
   "name": "python3"
  },
  "language_info": {
   "codemirror_mode": {
    "name": "ipython",
    "version": 3
   },
   "file_extension": ".py",
   "mimetype": "text/x-python",
   "name": "python",
   "nbconvert_exporter": "python",
   "pygments_lexer": "ipython3",
   "version": "3.11.3"
  }
 },
 "nbformat": 4,
 "nbformat_minor": 5
}
