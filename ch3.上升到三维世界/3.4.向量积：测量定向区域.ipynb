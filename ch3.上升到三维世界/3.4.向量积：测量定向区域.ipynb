{
 "cells": [
  {
   "cell_type": "code",
   "execution_count": null,
   "id": "59d9d7f8",
   "metadata": {},
   "outputs": [
    {
     "data": {
      "text/plain": [
       "(-4, 0, 0)"
      ]
     },
     "execution_count": 1,
     "metadata": {},
     "output_type": "execute_result"
    }
   ],
   "source": [
    "# 计算三维向量的向量积\n",
    "def cross(u, v):\n",
    "    return (u[1] * v[2] - u[2] * v[1],\n",
    "            u[2] * v[0] - u[0] * v[2],\n",
    "            u[0] * v[1] - u[1] * v[0])\n",
    "\n",
    "cross((0,2,0), (0,0,-2))"
   ]
  },
  {
   "cell_type": "code",
   "execution_count": 2,
   "id": "2e77c705",
   "metadata": {},
   "outputs": [
    {
     "data": {
      "text/plain": [
       "(6, 0, 0)"
      ]
     },
     "execution_count": 2,
     "metadata": {},
     "output_type": "execute_result"
    }
   ],
   "source": [
    "# 练习3.21\n",
    "cross((0,0,3), (0,-2,0))"
   ]
  },
  {
   "cell_type": "code",
   "execution_count": 3,
   "id": "afcd5b6a",
   "metadata": {},
   "outputs": [
    {
     "data": {
      "text/plain": [
       "(0, 0, 0)"
      ]
     },
     "execution_count": 3,
     "metadata": {},
     "output_type": "execute_result"
    }
   ],
   "source": [
    "# 练习3.22\n",
    "cross((1,-2,1), (-6,12,-6))"
   ]
  },
  {
   "cell_type": "code",
   "execution_count": 4,
   "id": "d3005bd5",
   "metadata": {},
   "outputs": [
    {
     "data": {
      "text/plain": [
       "(0, -1, 0)"
      ]
     },
     "execution_count": 4,
     "metadata": {},
     "output_type": "execute_result"
    }
   ],
   "source": [
    "# 练习3.24\n",
    "cross((1,0,1), (-1,0,0))"
   ]
  }
 ],
 "metadata": {
  "kernelspec": {
   "display_name": "Python 3",
   "language": "python",
   "name": "python3"
  },
  "language_info": {
   "codemirror_mode": {
    "name": "ipython",
    "version": 3
   },
   "file_extension": ".py",
   "mimetype": "text/x-python",
   "name": "python",
   "nbconvert_exporter": "python",
   "pygments_lexer": "ipython3",
   "version": "3.11.3"
  }
 },
 "nbformat": 4,
 "nbformat_minor": 5
}
