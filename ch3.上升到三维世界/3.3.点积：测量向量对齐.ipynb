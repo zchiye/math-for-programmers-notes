{
 "cells": [
  {
   "cell_type": "code",
   "execution_count": null,
   "id": "1b588f57",
   "metadata": {},
   "outputs": [
    {
     "name": "stdout",
     "output_type": "stream",
     "text": [
      "32\n"
     ]
    }
   ],
   "source": [
    "# 2个向量的点积计算方式\n",
    "def dot(v1, v2):\n",
    "    return sum([x*y for x,y in zip(v1,v2)])\n",
    "\n",
    "print(dot((1,2,3), (4,5,6)))  # 32\n"
   ]
  },
  {
   "cell_type": "code",
   "execution_count": 5,
   "id": "a6a0ec8e",
   "metadata": {},
   "outputs": [
    {
     "name": "stdout",
     "output_type": "stream",
     "text": [
      "90.0\n",
      "16.260204708311967\n"
     ]
    }
   ],
   "source": [
    "# 使用点积计算2个向量间的夹角\n",
    "from vectors import *\n",
    "from math import acos, pi\n",
    "\n",
    "def angle(v1, v2):\n",
    "    return acos(dot(v1,v2) / (length(v1)*length(v2))) * 180 / pi\n",
    "\n",
    "print(angle((1,0,0), (0,1,0)))  # 1.5707963267948966 (90度)\n",
    "print(angle((3,4), (4,3)))"
   ]
  },
  {
   "cell_type": "code",
   "execution_count": 7,
   "id": "73c29471",
   "metadata": {},
   "outputs": [
    {
     "name": "stdout",
     "output_type": "stream",
     "text": [
      "-2\n",
      "118.1255057020557\n"
     ]
    }
   ],
   "source": [
    "# 练习3.12\n",
    "v1 = (-1,-1,1)\n",
    "v2 = (1,2,1)\n",
    "print(dot(v1,v2))\n",
    "print(angle(v1,v2))"
   ]
  },
  {
   "cell_type": "code",
   "execution_count": 8,
   "id": "386e4ea6",
   "metadata": {},
   "outputs": [
    {
     "name": "stdout",
     "output_type": "stream",
     "text": [
      "-1.0186064362303022\n"
     ]
    }
   ],
   "source": [
    "# 练习3.16\n",
    "from math import cos\n",
    "v1_length = 3.61\n",
    "v2_length = 1.44\n",
    "print(v1_length * v2_length * cos(101.3 * pi / 180))"
   ]
  },
  {
   "cell_type": "code",
   "execution_count": 10,
   "id": "5844b55a",
   "metadata": {},
   "outputs": [
    {
     "name": "stdout",
     "output_type": "stream",
     "text": [
      "16.260204708311957\n",
      "16.260204708311967\n"
     ]
    }
   ],
   "source": [
    "# 练习3.17\n",
    "polar1 = to_polar((3,4))\n",
    "polar2 = to_polar((4,3))\n",
    "print(abs(polar1[1] - polar2[1]) * 180 / pi)\n",
    "print(angle((3,4), (4,3)))"
   ]
  },
  {
   "cell_type": "code",
   "execution_count": 11,
   "id": "fbfea6b3",
   "metadata": {},
   "outputs": [
    {
     "data": {
      "text/plain": [
       "109.47122063449069"
      ]
     },
     "execution_count": 11,
     "metadata": {},
     "output_type": "execute_result"
    }
   ],
   "source": [
    "angle((1,1,1), (-1,-1,1))"
   ]
  }
 ],
 "metadata": {
  "kernelspec": {
   "display_name": "Python 3",
   "language": "python",
   "name": "python3"
  },
  "language_info": {
   "codemirror_mode": {
    "name": "ipython",
    "version": 3
   },
   "file_extension": ".py",
   "mimetype": "text/x-python",
   "name": "python",
   "nbconvert_exporter": "python",
   "pygments_lexer": "ipython3",
   "version": "3.11.3"
  }
 },
 "nbformat": 4,
 "nbformat_minor": 5
}
